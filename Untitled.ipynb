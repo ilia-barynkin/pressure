{
 "cells": [
  {
   "cell_type": "code",
   "execution_count": null,
   "id": "88218bc4-5751-412e-92b4-39745fc7de34",
   "metadata": {},
   "outputs": [],
   "source": []
  }
 ],
 "metadata": {
  "kernelspec": {
   "display_name": "",
   "name": ""
  },
  "language_info": {
   "name": ""
  }
 },
 "nbformat": 4,
 "nbformat_minor": 5
}
